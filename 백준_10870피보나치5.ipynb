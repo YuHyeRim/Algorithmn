{
  "nbformat": 4,
  "nbformat_minor": 0,
  "metadata": {
    "colab": {
      "name": "백준_10870피보나치5",
      "provenance": [],
      "collapsed_sections": [],
      "authorship_tag": "ABX9TyOiXGXI3L6QBJ159bGInyeF"
    },
    "kernelspec": {
      "name": "python3",
      "display_name": "Python 3"
    },
    "language_info": {
      "name": "python"
    }
  },
  "cells": [
    {
      "cell_type": "code",
      "metadata": {
        "colab": {
          "base_uri": "https://localhost:8080/"
        },
        "id": "9dvcNXTnSIyf",
        "outputId": "6060cb36-abe2-416a-8f65-b0d7adb39069"
      },
      "source": [
        "!git clone https://github.com/YuHyeRim/Algorithmn"
      ],
      "execution_count": 1,
      "outputs": [
        {
          "output_type": "stream",
          "text": [
            "Cloning into 'Algorithmn'...\n",
            "remote: Enumerating objects: 3, done.\u001b[K\n",
            "remote: Counting objects: 100% (3/3), done.\u001b[K\n",
            "remote: Compressing objects: 100% (2/2), done.\u001b[K\n",
            "remote: Total 3 (delta 0), reused 0 (delta 0), pack-reused 0\u001b[K\n",
            "Unpacking objects: 100% (3/3), done.\n"
          ],
          "name": "stdout"
        }
      ]
    },
    {
      "cell_type": "code",
      "metadata": {
        "id": "8zD4Mk16SWgg"
      },
      "source": [
        "def fibonacci5(a):\n",
        "  if a <= 1:\n",
        "    return a\n",
        "  return fibonacci5(a-1) + fibonacci5(a-2)\n",
        "    \n",
        "print(fibonacci5(int(input())))"
      ],
      "execution_count": null,
      "outputs": []
    }
  ]
}