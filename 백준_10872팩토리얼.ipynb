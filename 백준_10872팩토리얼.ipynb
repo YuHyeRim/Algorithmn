{
  "nbformat": 4,
  "nbformat_minor": 0,
  "metadata": {
    "colab": {
      "name": "백준_10872팩토리얼",
      "provenance": [],
      "collapsed_sections": [],
      "authorship_tag": "ABX9TyPJdNc06FO6+9XgRyDBFzkd"
    },
    "kernelspec": {
      "name": "python3",
      "display_name": "Python 3"
    },
    "language_info": {
      "name": "python"
    }
  },
  "cells": [
    {
      "cell_type": "code",
      "metadata": {
        "id": "nbA4J-jqQIW0"
      },
      "source": [
        "def factorial(a):\n",
        "    if a <= 0:\n",
        "        return 1\n",
        "    else:\n",
        "        return a * factorial(a-1)\n",
        "\n",
        "print(factorial(int(input())))"
      ],
      "execution_count": null,
      "outputs": []
    }
  ]
}