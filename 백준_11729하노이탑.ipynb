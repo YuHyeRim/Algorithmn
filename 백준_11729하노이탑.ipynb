{
  "nbformat": 4,
  "nbformat_minor": 0,
  "metadata": {
    "colab": {
      "name": "백준_11729하노이탑",
      "provenance": [],
      "authorship_tag": "ABX9TyPJbFk06WsNwS5iVfNuWZdT"
    },
    "kernelspec": {
      "name": "python3",
      "display_name": "Python 3"
    },
    "language_info": {
      "name": "python"
    }
  },
  "cells": [
    {
      "cell_type": "code",
      "metadata": {
        "id": "FWYw8n-xS3Rp"
      },
      "source": [
        "def hanoi(n,a,b):\n",
        "    if n == 1:\n",
        "        print(a, b)\n",
        "        return\n",
        "    \n",
        "    hanoi(n-1,a,6-a-b) # 시작막대에 남은 고리를 나머지 막대에 옮겨줌\n",
        "    print(a, b)\n",
        "    hanoi(n-1,6-a-b,b)\n",
        "\n",
        "N = int(input())\n",
        "print(2**N-1)\n",
        "hanoi(N,1,3)"
      ],
      "execution_count": null,
      "outputs": []
    }
  ]
}