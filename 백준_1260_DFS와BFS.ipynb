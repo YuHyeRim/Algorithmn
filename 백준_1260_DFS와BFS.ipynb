{
  "nbformat": 4,
  "nbformat_minor": 0,
  "metadata": {
    "colab": {
      "name": "백준_1260 DFS와BFS",
      "provenance": [],
      "collapsed_sections": [],
      "authorship_tag": "ABX9TyPxYEynBruo0SBR1GxyXao5"
    },
    "kernelspec": {
      "name": "python3",
      "display_name": "Python 3"
    },
    "language_info": {
      "name": "python"
    }
  },
  "cells": [
    {
      "cell_type": "code",
      "metadata": {
        "id": "KOVjtEz6UmHz"
      },
      "source": [
        "n,m,v =map(int,input().split())\n",
        "matrix=[[0]*(n+1) for i in range(n+1)]\n",
        "for i in range(m):\n",
        "    a,b = map(int,input().split())\n",
        "    matrix[a][b]=matrix[b][a]=1\n",
        "visit_list=[0]*(n+1)\n",
        "\n",
        "def dfs(v):\n",
        "    visit_list[v]=1 #방문한 점 1로 표시\n",
        "    print(v, end=' ')\n",
        "    for i in range(1,n+1):\n",
        "        if(visit_list[i]==0 and matrix[v][i]==1):\n",
        "            dfs(i)\n",
        "\n",
        "def bfs(v):\n",
        "    queue=[v] #들려야 할 정점 저장\n",
        "    visit_list[v]=0 #방문한 점 0으로 표시\n",
        "    while queue:\n",
        "        v=queue.pop(0)\n",
        "        print(v, end=' ')\n",
        "        for i in range(1, n+1):\n",
        "            if(visit_list[i]==1 and matrix[v][i]==1):\n",
        "                queue.append(i)\n",
        "                visit_list[i]=0\n",
        "\n",
        "dfs(v)\n",
        "print()\n",
        "bfs(v)\n",
        "print()"
      ],
      "execution_count": null,
      "outputs": []
    }
  ]
}