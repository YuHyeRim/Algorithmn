{
  "nbformat": 4,
  "nbformat_minor": 0,
  "metadata": {
    "colab": {
      "name": "백준_2231분해합",
      "provenance": [],
      "collapsed_sections": [],
      "authorship_tag": "ABX9TyNWQiQUZggmxDgtX1hcEdIt"
    },
    "kernelspec": {
      "name": "python3",
      "display_name": "Python 3"
    },
    "language_info": {
      "name": "python"
    }
  },
  "cells": [
    {
      "cell_type": "code",
      "metadata": {
        "id": "9vLq3aayTjfK"
      },
      "source": [
        "n = int(input())\n",
        "produce = []\n",
        "\n",
        "for m in range(10,n):\n",
        "  m_sum = 0\n",
        "  for k in range(len(str(m))):\n",
        "    m_sum += int(str(m)[k])\n",
        "  if (m + m_sum) == n:\n",
        "    produce.append(m)\n",
        "\n",
        "if len(produce) == 0:\n",
        "  answer = 0\n",
        "else:\n",
        "  answer = min(produce)\n",
        "\n",
        "print(answer)"
      ],
      "execution_count": null,
      "outputs": []
    }
  ]
}