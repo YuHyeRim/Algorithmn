{
  "nbformat": 4,
  "nbformat_minor": 0,
  "metadata": {
    "colab": {
      "name": "백준_2447별찍기",
      "provenance": [],
      "collapsed_sections": [],
      "authorship_tag": "ABX9TyNr5GwLSempyDXw/TVtD42n"
    },
    "kernelspec": {
      "name": "python3",
      "display_name": "Python 3"
    },
    "language_info": {
      "name": "python"
    }
  },
  "cells": [
    {
      "cell_type": "code",
      "metadata": {
        "id": "X8gcVgX6SlmU"
      },
      "source": [
        "N = int(input())\n",
        "\n",
        "star_list = [[\" \" for _ in range(N)] for _ in range(N)]\n",
        "\n",
        "def star(size,x,y):\n",
        "\n",
        "  if size == 1:\n",
        "    star_list[y][x] = '*'\n",
        "\n",
        "  else:\n",
        "    size2 = size // 3\n",
        "\n",
        "    star(size2, x+0*size2, y+0*size2)\n",
        "    star(size2, x+0*size2, y+1*size2)\n",
        "    star(size2, x+0*size2, y+2*size2)\n",
        "\n",
        "    star(size2, x+1*size2, y+0*size2)\n",
        "    star(size2, x+1*size2, y+2*size2)\n",
        "\n",
        "    star(size2, x+2*size2, y+0*size2)\n",
        "    star(size2, x+2*size2, y+1*size2)\n",
        "    star(size2, x+2*size2, y+2*size2)\n",
        "\n",
        "star(N,0,0)\n",
        "\n",
        "for k in star_list:\n",
        "    print(''.join(k))"
      ],
      "execution_count": null,
      "outputs": []
    }
  ]
}