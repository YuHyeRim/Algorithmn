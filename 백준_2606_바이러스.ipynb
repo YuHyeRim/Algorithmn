{
  "nbformat": 4,
  "nbformat_minor": 0,
  "metadata": {
    "colab": {
      "name": "백준_2606 바이러스",
      "provenance": [],
      "collapsed_sections": [],
      "authorship_tag": "ABX9TyPWGxSzNRFH8LZST7TbMc7C"
    },
    "kernelspec": {
      "name": "python3",
      "display_name": "Python 3"
    },
    "language_info": {
      "name": "python"
    }
  },
  "cells": [
    {
      "cell_type": "code",
      "metadata": {
        "id": "Bs75xgkKU8LB"
      },
      "source": [
        "from collections import deque\n",
        "\n",
        "c = int(input())\n",
        "connect = int(input())\n",
        "\n",
        "matrix=[[0]*(c+1) for _ in range(c+1)]\n",
        "\n",
        "for i in range(connect):\n",
        "    a,b = map(int,input().split())\n",
        "    matrix[a][b]=matrix[b][a]=1\n",
        "\n",
        "\n",
        "def virus(start):\n",
        "    visit_list = [start]\n",
        "    # deque 생성\n",
        "    queue = deque()\n",
        "    queue.append(start)\n",
        "    \n",
        "    while queue:\n",
        "        v = queue.popleft()\n",
        "        \n",
        "        for w in range(len(matrix[start])):\n",
        "            if matrix[v][w] == 1 and (w not in visit_list):\n",
        "                visit_list.append(w)\n",
        "                queue.append(w)\n",
        "                \n",
        "    return visit_list\n",
        "\n",
        "print(len(virus(1))-1)"
      ],
      "execution_count": null,
      "outputs": []
    }
  ]
}