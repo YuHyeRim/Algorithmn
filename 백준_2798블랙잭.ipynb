{
  "nbformat": 4,
  "nbformat_minor": 0,
  "metadata": {
    "colab": {
      "name": "백준_2798블랙잭",
      "provenance": [],
      "collapsed_sections": [],
      "authorship_tag": "ABX9TyMqRo/JtaaWnfpjOeDjFkmM"
    },
    "kernelspec": {
      "name": "python3",
      "display_name": "Python 3"
    },
    "language_info": {
      "name": "python"
    }
  },
  "cells": [
    {
      "cell_type": "code",
      "metadata": {
        "id": "D2dpe1eITIkQ"
      },
      "source": [
        "n, m = map(int, input().split())\n",
        "numlist = list(map(int,input().split()))\n",
        "\n",
        "answer = 0\n",
        "for i in range(len(numlist)):\n",
        "  for j in range(i+1, len(numlist)):\n",
        "    for k in range(j+1, len(numlist)):\n",
        "          sum = numlist[i] + numlist[j] + numlist[k]\n",
        "      \n",
        "          if sum <= m:\n",
        "            answer = max(answer, sum)\n",
        "\n",
        "print(answer)"
      ],
      "execution_count": null,
      "outputs": []
    }
  ]
}